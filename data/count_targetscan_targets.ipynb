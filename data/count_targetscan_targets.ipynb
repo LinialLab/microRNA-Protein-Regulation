{
 "cells": [
  {
   "cell_type": "markdown",
   "id": "941b251b",
   "metadata": {},
   "source": [
    "Data from: Targetscan - summary counts\n",
    "* computationally predicted +- targets\n",
    "* vert: https://www.targetscan.org/cgi-bin/targetscan/data_download.cgi?db=vert_61  \n",
    "\n",
    "\n",
    "\n",
    "* Human species id: 9606\n",
    "* Mouse: 10090\n",
    "* Rattus norvegicus (Norway rat) : 10116\n",
    "* Drosophila melanogaster : 7227\n",
    "* C elegans nematode/roundworm: 6239\n",
    "* Zebrafish (fish source): 7955 "
   ]
  },
  {
   "cell_type": "code",
   "execution_count": 1,
   "id": "ac5a9756",
   "metadata": {},
   "outputs": [],
   "source": [
    "import pandas as pd"
   ]
  },
  {
   "cell_type": "code",
   "execution_count": 9,
   "id": "0e858184",
   "metadata": {},
   "outputs": [
    {
     "data": {
      "text/html": [
       "<div>\n",
       "<style scoped>\n",
       "    .dataframe tbody tr th:only-of-type {\n",
       "        vertical-align: middle;\n",
       "    }\n",
       "\n",
       "    .dataframe tbody tr th {\n",
       "        vertical-align: top;\n",
       "    }\n",
       "\n",
       "    .dataframe thead th {\n",
       "        text-align: right;\n",
       "    }\n",
       "</style>\n",
       "<table border=\"1\" class=\"dataframe\">\n",
       "  <thead>\n",
       "    <tr style=\"text-align: right;\">\n",
       "      <th></th>\n",
       "      <th>Gene Symbol</th>\n",
       "      <th>Species ID</th>\n",
       "    </tr>\n",
       "  </thead>\n",
       "  <tbody>\n",
       "    <tr>\n",
       "      <th>0</th>\n",
       "      <td>A1BG</td>\n",
       "      <td>9606</td>\n",
       "    </tr>\n",
       "    <tr>\n",
       "      <th>1</th>\n",
       "      <td>A1BG</td>\n",
       "      <td>9598</td>\n",
       "    </tr>\n",
       "    <tr>\n",
       "      <th>2</th>\n",
       "      <td>A1BG</td>\n",
       "      <td>9544</td>\n",
       "    </tr>\n",
       "    <tr>\n",
       "      <th>3</th>\n",
       "      <td>A1BG</td>\n",
       "      <td>9615</td>\n",
       "    </tr>\n",
       "    <tr>\n",
       "      <th>4</th>\n",
       "      <td>A1CF</td>\n",
       "      <td>9544</td>\n",
       "    </tr>\n",
       "    <tr>\n",
       "      <th>...</th>\n",
       "      <td>...</td>\n",
       "      <td>...</td>\n",
       "    </tr>\n",
       "    <tr>\n",
       "      <th>718087</th>\n",
       "      <td>ZZZ3</td>\n",
       "      <td>9606</td>\n",
       "    </tr>\n",
       "    <tr>\n",
       "      <th>718093</th>\n",
       "      <td>ZZZ3</td>\n",
       "      <td>9031</td>\n",
       "    </tr>\n",
       "    <tr>\n",
       "      <th>718098</th>\n",
       "      <td>ZZZ3</td>\n",
       "      <td>10090</td>\n",
       "    </tr>\n",
       "    <tr>\n",
       "      <th>718112</th>\n",
       "      <td>ZZZ3</td>\n",
       "      <td>8364</td>\n",
       "    </tr>\n",
       "    <tr>\n",
       "      <th>718210</th>\n",
       "      <td>ZZZ3</td>\n",
       "      <td>13616</td>\n",
       "    </tr>\n",
       "  </tbody>\n",
       "</table>\n",
       "<p>96004 rows × 2 columns</p>\n",
       "</div>"
      ],
      "text/plain": [
       "       Gene Symbol  Species ID\n",
       "0             A1BG        9606\n",
       "1             A1BG        9598\n",
       "2             A1BG        9544\n",
       "3             A1BG        9615\n",
       "4             A1CF        9544\n",
       "...            ...         ...\n",
       "718087        ZZZ3        9606\n",
       "718093        ZZZ3        9031\n",
       "718098        ZZZ3       10090\n",
       "718112        ZZZ3        8364\n",
       "718210        ZZZ3       13616\n",
       "\n",
       "[96004 rows x 2 columns]"
      ]
     },
     "execution_count": 9,
     "metadata": {},
     "output_type": "execute_result"
    }
   ],
   "source": [
    "## drop cols and notably 'miR Family', 'Gene ID',  - we just want genes targetted : \n",
    "df_vert = pd.read_csv(\"vert_Predicted_Targets_Info.default_predictions.tsv\",sep=\"\\t\",usecols=['Gene Symbol', 'Species ID']).drop_duplicates()\n",
    "df_vert"
   ]
  },
  {
   "cell_type": "code",
   "execution_count": 10,
   "id": "6d415f00",
   "metadata": {},
   "outputs": [
    {
     "data": {
      "text/plain": [
       "Gene Symbol    13759\n",
       "Species ID        10\n",
       "dtype: int64"
      ]
     },
     "execution_count": 10,
     "metadata": {},
     "output_type": "execute_result"
    }
   ],
   "source": [
    "df_vert.nunique()"
   ]
  },
  {
   "cell_type": "code",
   "execution_count": 11,
   "id": "4065234b",
   "metadata": {},
   "outputs": [
    {
     "data": {
      "text/plain": [
       "9606     13035\n",
       "9544     12148\n",
       "9598     11803\n",
       "9913     11412\n",
       "9615     11386\n",
       "10090    11217\n",
       "10116    10771\n",
       "13616     7278\n",
       "9031      4441\n",
       "8364      2513\n",
       "Name: Species ID, dtype: int64"
      ]
     },
     "execution_count": 11,
     "metadata": {},
     "output_type": "execute_result"
    }
   ],
   "source": [
    "df_vert[\"Species ID\"].value_counts()"
   ]
  },
  {
   "cell_type": "code",
   "execution_count": 14,
   "id": "249acaa5",
   "metadata": {},
   "outputs": [
    {
     "data": {
      "text/plain": [
       "29030      5787\n",
       "7227       5759\n",
       "29029      5737\n",
       "30023      5722\n",
       "7220       5711\n",
       "7238       5701\n",
       "30025      5684\n",
       "7245       5674\n",
       "1041015    5452\n",
       "125945     5414\n",
       "7240       5252\n",
       "28584      5197\n",
       "30033      5193\n",
       "42026      5006\n",
       "7217       4827\n",
       "7234       4456\n",
       "7229       4454\n",
       "7237       4388\n",
       "7244       3435\n",
       "7230       3240\n",
       "7222       3221\n",
       "7260       3131\n",
       "7291       2529\n",
       "7370        710\n",
       "7165        275\n",
       "7070        239\n",
       "7460        148\n",
       "Name: Species ID, dtype: int64"
      ]
     },
     "execution_count": 14,
     "metadata": {},
     "output_type": "execute_result"
    }
   ],
   "source": [
    "df_fly = pd.read_csv(\"fly_Predicted_Targets_Info.default_predictions.txt\",sep=\"\\t\",usecols=['Gene Symbol', 'Species ID']).drop_duplicates()\n",
    "df_fly[\"Species ID\"].value_counts()"
   ]
  },
  {
   "cell_type": "markdown",
   "id": "90b0b5b9",
   "metadata": {},
   "source": [
    "7227 (fruit fly): 5759"
   ]
  },
  {
   "cell_type": "code",
   "execution_count": 16,
   "id": "ef091fbf",
   "metadata": {},
   "outputs": [
    {
     "data": {
      "text/plain": [
       "7955    19692\n",
       "Name: Species ID, dtype: int64"
      ]
     },
     "execution_count": 16,
     "metadata": {},
     "output_type": "execute_result"
    }
   ],
   "source": [
    "## zebrafish\n",
    "df_fish = pd.read_csv(\"zfish_Summary_Counts.txt\",sep=\"\\t\",usecols=['Gene Symbol', 'Species ID']).drop_duplicates()\n",
    "df_fish[\"Species ID\"].value_counts()"
   ]
  },
  {
   "cell_type": "code",
   "execution_count": 18,
   "id": "9f07b915",
   "metadata": {},
   "outputs": [
    {
     "data": {
      "text/plain": [
       "6239    15786\n",
       "Name: Species ID, dtype: int64"
      ]
     },
     "execution_count": 18,
     "metadata": {},
     "output_type": "execute_result"
    }
   ],
   "source": [
    "df_worm = pd.read_csv(\"worm_Summary_Counts.txt\",sep=\"\\t\",usecols=['Gene Symbol', 'Species ID']).drop_duplicates()\n",
    "df_worm[\"Species ID\"].value_counts()"
   ]
  },
  {
   "cell_type": "code",
   "execution_count": null,
   "id": "6701240f",
   "metadata": {},
   "outputs": [],
   "source": []
  }
 ],
 "metadata": {
  "kernelspec": {
   "display_name": "Python 3 (ipykernel)",
   "language": "python",
   "name": "python3"
  },
  "language_info": {
   "codemirror_mode": {
    "name": "ipython",
    "version": 3
   },
   "file_extension": ".py",
   "mimetype": "text/x-python",
   "name": "python",
   "nbconvert_exporter": "python",
   "pygments_lexer": "ipython3",
   "version": "3.8.12"
  }
 },
 "nbformat": 4,
 "nbformat_minor": 5
}
